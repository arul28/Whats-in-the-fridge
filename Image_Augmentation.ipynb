{
  "nbformat": 4,
  "nbformat_minor": 0,
  "metadata": {
    "kernelspec": {
      "display_name": "Python 3",
      "language": "python",
      "name": "python3"
    },
    "language_info": {
      "codemirror_mode": {
        "name": "ipython",
        "version": 3
      },
      "file_extension": ".py",
      "mimetype": "text/x-python",
      "name": "python",
      "nbconvert_exporter": "python",
      "pygments_lexer": "ipython3",
      "version": "3.8.5"
    },
    "colab": {
      "name": "Image_Augmentation.ipynb",
      "provenance": []
    }
  },
  "cells": [
    {
      "cell_type": "markdown",
      "metadata": {
        "id": "D16qCHMieAjk",
        "colab_type": "text"
      },
      "source": [
        "# Basic Augmentation"
      ]
    },
    {
      "cell_type": "code",
      "metadata": {
        "id": "3uLUmz_feAjl",
        "colab_type": "code",
        "colab": {
          "base_uri": "https://localhost:8080/",
          "height": 274
        },
        "outputId": "06a42057-0fc3-466b-fdd8-f976bf851f7d"
      },
      "source": [
        "!pip install Augmentor\n",
        "import Augmentor\n",
        "from google.colab import drive\n",
        "from google.colab import files\n",
        "drive.mount(\"/content/drive\")"
      ],
      "execution_count": null,
      "outputs": [
        {
          "output_type": "stream",
          "text": [
            "Collecting Augmentor\n",
            "  Downloading https://files.pythonhosted.org/packages/cb/79/861f38d5830cff631e30e33b127076bfef8ac98171e51daa06df0118c75f/Augmentor-0.2.8-py2.py3-none-any.whl\n",
            "Requirement already satisfied: tqdm>=4.9.0 in /usr/local/lib/python3.6/dist-packages (from Augmentor) (4.41.1)\n",
            "Requirement already satisfied: future>=0.16.0 in /usr/local/lib/python3.6/dist-packages (from Augmentor) (0.16.0)\n",
            "Requirement already satisfied: Pillow>=5.2.0 in /usr/local/lib/python3.6/dist-packages (from Augmentor) (7.0.0)\n",
            "Requirement already satisfied: numpy>=1.11.0 in /usr/local/lib/python3.6/dist-packages (from Augmentor) (1.18.5)\n",
            "Installing collected packages: Augmentor\n",
            "Successfully installed Augmentor-0.2.8\n",
            "Go to this URL in a browser: https://accounts.google.com/o/oauth2/auth?client_id=947318989803-6bn6qk8qdgf4n4g3pfee6491hc0brc4i.apps.googleusercontent.com&redirect_uri=urn%3aietf%3awg%3aoauth%3a2.0%3aoob&scope=email%20https%3a%2f%2fwww.googleapis.com%2fauth%2fdocs.test%20https%3a%2f%2fwww.googleapis.com%2fauth%2fdrive%20https%3a%2f%2fwww.googleapis.com%2fauth%2fdrive.photos.readonly%20https%3a%2f%2fwww.googleapis.com%2fauth%2fpeopleapi.readonly&response_type=code\n",
            "\n",
            "Enter your authorization code:\n",
            "··········\n",
            "Mounted at /content/drive\n"
          ],
          "name": "stdout"
        }
      ]
    },
    {
      "cell_type": "code",
      "metadata": {
        "id": "rY6CfPfneAjs",
        "colab_type": "code",
        "colab": {
          "base_uri": "https://localhost:8080/",
          "height": 310
        },
        "outputId": "91146425-9ebb-4093-93b7-4bf6a39019f7"
      },
      "source": [
        "import os\n",
        "\n",
        "folders = os.listdir(\"/content/drive/My Drive/project/manualmethod/newimages/\")\n",
        "\n",
        "for folder in folders:\n",
        "  print(folder)\n",
        "  p = Augmentor.Pipeline(source_directory=\"/content/drive/My Drive/project/manualmethod/newimages/\" + folder,\n",
        "                        output_directory=\"/content/drive/My Drive/project/manualmethod/augimages2/\" + folder)\n",
        "    \n",
        "  # Defining augmentation parameters and generating 250 samples \n",
        "  p.flip_left_right(probability=0.4) # adding flips\n",
        "  p.flip_top_bottom(probability=0.8) # adding flips\n",
        "  p.rotate(probability=0.5, max_left_rotation=25, max_right_rotation=25) # adding rotations\n",
        "  p.skew(0.5, 0.5) # adding skew factor\n",
        "  p.zoom(probability = 0.4, min_factor = 1.5, max_factor = 2.0) # adding zoom factor\n",
        "  p.sample(250)"
      ],
      "execution_count": null,
      "outputs": [
        {
          "output_type": "stream",
          "text": [
            "raw_broccoli_and_raw_carrot\n"
          ],
          "name": "stdout"
        },
        {
          "output_type": "stream",
          "text": [
            "Processing <PIL.Image.Image image mode=RGB size=224x224 at 0x7F7EC5F36940>:   2%|▏         | 4/250 [00:00<00:32,  7.48 Samples/s]"
          ],
          "name": "stderr"
        },
        {
          "output_type": "stream",
          "text": [
            "Initialised with 100 image(s) found.\n",
            "Output directory set to /content/drive/My Drive/project/manualmethod/augimages2/raw_broccoli_and_raw_carrot."
          ],
          "name": "stdout"
        },
        {
          "output_type": "stream",
          "text": [
            "Processing <PIL.Image.Image image mode=RGB size=224x224 at 0x7F7EC06A9E80>: 100%|██████████| 250/250 [00:04<00:00, 57.60 Samples/s]\n"
          ],
          "name": "stderr"
        },
        {
          "output_type": "stream",
          "text": [
            "milk\n"
          ],
          "name": "stdout"
        },
        {
          "output_type": "stream",
          "text": [
            "Processing <PIL.Image.Image image mode=RGB size=224x224 at 0x7F7EC070B048>:   3%|▎         | 8/250 [00:00<00:26,  9.04 Samples/s]"
          ],
          "name": "stderr"
        },
        {
          "output_type": "stream",
          "text": [
            "Initialised with 100 image(s) found.\n",
            "Output directory set to /content/drive/My Drive/project/manualmethod/augimages2/milk."
          ],
          "name": "stdout"
        },
        {
          "output_type": "stream",
          "text": [
            "Processing <PIL.Image.Image image mode=RGB size=224x224 at 0x7F7EC06E04E0>: 100%|██████████| 250/250 [00:04<00:00, 59.82 Samples/s]\n"
          ],
          "name": "stderr"
        },
        {
          "output_type": "stream",
          "text": [
            "raw_chicken_and_raw_pork\n"
          ],
          "name": "stdout"
        },
        {
          "output_type": "stream",
          "text": [
            "Processing <PIL.Image.Image image mode=RGB size=224x224 at 0x7F7EC069CF98>:   0%|          | 1/250 [00:00<00:33,  7.47 Samples/s]"
          ],
          "name": "stderr"
        },
        {
          "output_type": "stream",
          "text": [
            "Initialised with 100 image(s) found.\n",
            "Output directory set to /content/drive/My Drive/project/manualmethod/augimages2/raw_chicken_and_raw_pork."
          ],
          "name": "stdout"
        },
        {
          "output_type": "stream",
          "text": [
            "Processing <PIL.Image.Image image mode=RGB size=224x224 at 0x7F7EC070A550>: 100%|██████████| 250/250 [00:04<00:00, 59.10 Samples/s]\n"
          ],
          "name": "stderr"
        },
        {
          "output_type": "stream",
          "text": [
            "apple_and_orange\n"
          ],
          "name": "stdout"
        },
        {
          "output_type": "stream",
          "text": [
            "Processing <PIL.Image.Image image mode=RGB size=224x224 at 0x7F7EC5F46128>:   1%|          | 2/250 [00:00<00:39,  6.22 Samples/s]"
          ],
          "name": "stderr"
        },
        {
          "output_type": "stream",
          "text": [
            "Initialised with 100 image(s) found.\n",
            "Output directory set to /content/drive/My Drive/project/manualmethod/augimages2/apple_and_orange."
          ],
          "name": "stdout"
        },
        {
          "output_type": "stream",
          "text": [
            "Processing <PIL.Image.Image image mode=RGB size=224x224 at 0x7F7EC06E5940>: 100%|██████████| 250/250 [00:04<00:00, 59.79 Samples/s]\n"
          ],
          "name": "stderr"
        },
        {
          "output_type": "stream",
          "text": [
            "packaged_bread\n"
          ],
          "name": "stdout"
        },
        {
          "output_type": "stream",
          "text": [
            "Processing <PIL.Image.Image image mode=RGB size=224x224 at 0x7F7EC0715C18>:   3%|▎         | 7/250 [00:00<00:30,  7.84 Samples/s]"
          ],
          "name": "stderr"
        },
        {
          "output_type": "stream",
          "text": [
            "Initialised with 100 image(s) found.\n",
            "Output directory set to /content/drive/My Drive/project/manualmethod/augimages2/packaged_bread."
          ],
          "name": "stdout"
        },
        {
          "output_type": "stream",
          "text": [
            "Processing <PIL.Image.Image image mode=RGB size=224x224 at 0x7F7EC5F46A20>: 100%|██████████| 250/250 [00:04<00:00, 58.73 Samples/s]\n"
          ],
          "name": "stderr"
        }
      ]
    },
    {
      "cell_type": "code",
      "metadata": {
        "id": "12ZIIta2h83A",
        "colab_type": "code",
        "colab": {
          "base_uri": "https://localhost:8080/",
          "height": 35
        },
        "outputId": "2720f047-d32a-42a7-aa2c-4d7bf76dd3c3"
      },
      "source": [
        "print(len(os.listdir('/content/drive/My Drive/project/manualmethod/augimages2/milk')))"
      ],
      "execution_count": null,
      "outputs": [
        {
          "output_type": "stream",
          "text": [
            "250\n"
          ],
          "name": "stdout"
        }
      ]
    },
    {
      "cell_type": "code",
      "metadata": {
        "id": "DWLdg8lnvKD2",
        "colab_type": "code",
        "colab": {}
      },
      "source": [
        ""
      ],
      "execution_count": null,
      "outputs": []
    }
  ]
}